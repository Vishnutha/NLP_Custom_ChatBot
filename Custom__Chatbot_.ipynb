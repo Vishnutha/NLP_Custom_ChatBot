{
  "nbformat": 4,
  "nbformat_minor": 0,
  "metadata": {
    "colab": {
      "provenance": [],
      "include_colab_link": true
    },
    "kernelspec": {
      "name": "python3",
      "display_name": "Python 3"
    },
    "language_info": {
      "name": "python"
    }
  },
  "cells": [
    {
      "cell_type": "markdown",
      "metadata": {
        "id": "view-in-github",
        "colab_type": "text"
      },
      "source": [
        "<a href=\"https://colab.research.google.com/github/Vishnutha/NLP_Custom_ChatBot/blob/main/Custom__Chatbot_.ipynb\" target=\"_parent\"><img src=\"https://colab.research.google.com/assets/colab-badge.svg\" alt=\"Open In Colab\"/></a>"
      ]
    },
    {
      "cell_type": "markdown",
      "source": [
        "# ***Lexical Processing***"
      ],
      "metadata": {
        "id": "orE827SfdCt7"
      }
    },
    {
      "cell_type": "markdown",
      "source": [
        "### ***Dataset***"
      ],
      "metadata": {
        "id": "0SxO0Zra9Z5D"
      }
    },
    {
      "cell_type": "code",
      "source": [
        "cel_str = '''\n",
        "{\n",
        "  \"intents\": [\n",
        "\n",
        "    {\n",
        "      \"tag\": \"Introduction of_bot\",\n",
        "      \"patterns\": [\n",
        "        \"Hi\",\n",
        "        \"Hey\",\n",
        "        \"How are you\",\n",
        "        \"Is anyone there?\",\n",
        "        \"Hello\",\n",
        "        \"Good day\"\n",
        "      ],\n",
        "      \"responses\": [\n",
        "        \"Hi, I'm the virtual assistant for bus ticket booking. How may I assist you today? \",\n",
        "        \"Hello there! I'm the AI assistant designed to make your bus ticket booking experience smooth and easy\",\n",
        "        \"Hey! I'm here to make your travel plans easier by assisting you with all your bus ticket booking needs\",\n",
        "        \"Hi, I'm the virtual assistant here to assist you with your bus ticket bookings.\"\n",
        "      ]\n",
        "    },\n",
        "\n",
        "\n",
        "\n",
        "\n",
        "    {\n",
        "      \"tag\": \"Goodbye\",\n",
        "      \"patterns\": [\"Bye\", \"See you later\", \"Goodbye\"],\n",
        "      \"responses\": [\n",
        "        \"See you later, thanks for visiting\",\n",
        "        \"Have a nice day\",\n",
        "        \"Bye! Come back again soon.\"\n",
        "      ]\n",
        "    },\n",
        "\n",
        "\n",
        "    {\n",
        "      \"tag\": \"Thanks\",\n",
        "      \"patterns\": [\"Thanks\", \"Thank you\", \"That's helpful\", \"Thank's a lot!\"],\n",
        "      \"responses\": [\"Happy to help!\", \"Any time!\", \"My pleasure\",\"Welcome!\"]\n",
        "    },\n",
        "\n",
        "\n",
        "    {\n",
        "      \"tag\": \"Assistance_with_booking_a_ticket\",\n",
        "      \"patterns\": [\n",
        "        \"I need to book a bus ticket Can you help?\",\n",
        "        \"Hey, I'm looking to book a bus ticket. Could you guide me through the process?\",\n",
        "        \"Hi, I'm interested in booking a bus ticket. Can you provide support in making the reservation?\",\n",
        "        \"I want to book a bus ticket ,can you assist me through the process\"\n",
        "      ],\n",
        "      \"responses\": [\n",
        "        \"Sure! To start, please open the 'Book Bus Tickets' section on the app. Once there, enter your departure city and your destination. After that, select date for your journey. I'll assist you step by step through the process.\",\n",
        "        \"Absolutely! Begin by accessing the 'Book Bus Tickets' section within the app—input  starting point and as your destination. After that, pick date for your journey. I'll be here to guide you through each step.\",\n",
        "        \"Of course! To get started, tap on 'Book Bus Tickets'. From there, enter your departure and destination cities. After that, select date for your journey. I'll assist in the entire process\",\n",
        "        \"No problem! Navigate to the 'Book Bus Tickets' section of the app. Once there, input your departure and destination cities. After that, pick date for your journey. I'll be with you every step of the way to help you complete the booking\"\n",
        "      ]\n",
        "    },\n",
        "\n",
        "\n",
        "    {\n",
        "      \"tag\": \"Seat_selection\",\n",
        "      \"patterns\": [\n",
        "      \"How can I choose my preferred seat on the bus?\",\n",
        "      \"What's the process for selecting seats on a bus during booking?\",\n",
        "      \"Can you guide me on how to pick the seat I want when booking a bus ticket?\",\n",
        "      \"Any instructions on how to select specific seats while booking a bus ticket?\"\n",
        "      ],\n",
        "      \"responses\": [\n",
        "        \"Once you've selected your route and travel date, you'll see a seat selection screen. Just tap on your preferred seat to reserve it. You can also filter seats based on your preferences. Confirm your selection, and you're all set! Let me know if you need any further assistance\",\n",
        "        \"After choosing your route and travel date, simply tap to select your desired seat on the bus. You can also use filters for specific preferences. Confirm your choice, and you're good to go! Feel free to reach out if you need more help\",\n",
        "        \"Once you've picked your route and travel date, just tap on the seat you want on the bus layout. Customize your search with filters if needed. Once selected, confirm your choice, and you're done! Don't hesitate to ask if you have any questions.\",\n",
        "        \"After selecting your route and date, navigate to the seat selection screen and choose your preferred seat with a tap. Use filters for any special requests. Once you're satisfied, confirm your selection to complete the booking. Let me know if there's anything else I can assist you with\"\n",
        "      ]\n",
        "    },\n",
        "\n",
        "\n",
        "\n",
        "    {\n",
        "      \"tag\": \"Cancellation_of_tickets\",\n",
        "      \"patterns\": [\n",
        "        \"How do I cancel my bus ticket?\",\n",
        "\n",
        "        \"What's the procedure for canceling a booked bus ticket?\",\n",
        "\n",
        "        \"Can you guide me through the steps to cancel a bus ticket?\",\n",
        "\n",
        "        \"Any instructions on how to initiate the cancellation of a bus ticket\"\n",
        "      ],\n",
        "      \"responses\": [\n",
        "        \"To cancel your bus ticket, head to 'My Bookings', choose your ticket, and hit 'Cancel'. Check for any applicable fees. Reach out if you need assistance.\",\n",
        "        \"Cancel your bus ticket by going to 'My Bookings', selecting your ticket, and pressing 'Cancel'. Ensure you're aware of any fees. Let me know if you have questions.\",\n",
        "        \"To cancel, navigate to 'My Bookings', locate your ticket, and click 'Cancel'. Be mindful of any fees. Need help? Just ask\",\n",
        "        \"To cancel your bus ticket, go to 'My Bookings', select your ticket, and tap 'Cancel'. Review any fees or policies. Let me know if you need more help.\"\n",
        "      ]\n",
        "    },\n",
        "\n",
        "\n",
        "    {\n",
        "      \"tag\": \"Payment_options\",\n",
        "      \"patterns\": [\n",
        "        \"What are the different payment options available here\",\n",
        "        \"Can I pay through UPI\",\n",
        "        \"can I pay through netbanking\",\n",
        "        \"Can i make a UPI payment\",\n",
        "        \"Can I use Net banking to make a payment\"\n",
        "      ],\n",
        "      \"responses\": [\n",
        "        \"Yes, We accept UPI, Net Banking, Credit card, Debit card, Mobile wallets.\"\n",
        "      ]\n",
        "    },\n",
        "\n",
        "\n",
        "    {\n",
        "\n",
        "      \"tag\": \"Loyalty_Program\",\n",
        "      \"patterns\":[\n",
        "        \"Are there any loyalty programs for frequent users?\",\n",
        "        \"Is there any loyalty program for frequent users?\"\n",
        "      ],\n",
        "      \"responses\":[\n",
        "        \"Yes, We offer a loyalty program called Privilage . Users can earn points for every booking and enjoy discounts or other benefits based on their loyalty level. Check the 'Rewards' section on our website for more details.\"\n",
        "      ]\n",
        "    },\n",
        "\n",
        "\n",
        "{\n",
        "\n",
        "      \"tag\": \"Bus_Delay\",\n",
        "      \"patterns\": [\"What if my bus is delayed?\"],\n",
        "      \"responses\": [\n",
        "        \"Delays can occasionally happen due to various reasons such as traffic, weather, or unforeseen circumstances. If your bus is delayed, you can track its real-time location on our website or app. In case of significant delays, our customer support can provide assistance.\"]\n",
        "},\n",
        "\n",
        "\n",
        "\n",
        "{\n",
        "      \"tag\": \"Payment_Assistance\",\n",
        "      \"patterns\": [\n",
        "        \"I'm having trouble making payment for my booking. Can you help?\",\n",
        "        \"I'm encountering issues while trying to complete the payment for my booking. Can you assist me?\",\n",
        "        \"Having difficulty processing the payment for my booking. Could you provide assistance with this matter?\",\n",
        "        \"I'm experiencing problems during the payment process for my booking. Is there any help available to resolve this?\"\n",
        "      ],\n",
        "      \"responses\": [\n",
        "        \"Of course! Please ensure that you have a stable internet connection and sufficient funds in your payment method. If the issue persists, you can try using a different payment card or contact your bank for assistance\",\n",
        "        \"Absolutely! Ensure that your internet connection is reliable and your payment method has adequate funds. If you're still having trouble, consider using a different payment card or contacting your bank for assistance.\",\n",
        "        \"Of course! Double-check that your internet connection is strong and there's enough balance in your payment method. If the problem continues, consider trying a different payment card or getting in touch with your bank for support.\",\n",
        "        \"Certainly! Make sure your internet connection is stable and there are enough funds in your payment method. If you're still facing issues, consider using another payment card or reaching out to your bank for help\"\n",
        "      ]\n",
        "    },\n",
        "\n",
        "\n",
        "\n",
        "\n",
        "    {\n",
        "      \"tag\": \"Booking_modification\",\n",
        "      \"patterns\": [\n",
        "        \"How can I reschedule the date of my bus ticket?\",\n",
        "        \"What's the process for changing the date on my bus ticket?\",\n",
        "        \"I'd like to switch the date of my bus ticket. How do I go about it?\",\n",
        "        \"How can I reschedule my ticket\",\n",
        "        \"Rescheduling my ticket help\",\n",
        "        \"help me regarding rescheduling my bus ticket\"\n",
        "\n",
        "      ],\n",
        "      \"responses\": [\n",
        "        \"To adjust your booking, navigate to 'My Bookings', then select the ticket you'd like to change. Look for the 'Modify' option and follow the steps to update your travel date. Note that there might be modification fees involved\",\n",
        "        \"To modify your booking, head to 'My Bookings' and pick the ticket you need to update. Then, click on 'Modify' and follow the instructions to change the date. Please be aware that there may be fees associated with modifications.\",\n",
        "        \"If you need to change your travel date, simply go to 'My Bookings' and choose the ticket you want to modify. From there, select 'Modify' and proceed with updating the date. Just a heads up, there could be modification charges.\"\n",
        "      ]\n",
        "    },\n",
        "\n",
        "\n",
        "\n",
        "    {\n",
        "      \"tag\": \"Refund_Inquiry\",\n",
        "      \"patterns\":[\"What is the refund policy if I need to cancel my bus ticket?\",\n",
        "      \"Can you explain the refund process for canceled bus tickets?\",\n",
        "      \"What happens if I cancel my bus ticket? Can I get a refund?\",\n",
        "      \"How does the refund work if I decide to cancel my bus ticket?\"],\n",
        "      \"responses\":[\n",
        "        \"Our refund policy is flexible, taking into account factors like cancellation timing and bus operator terms. You can access detailed refund policy information on our website or app. Feel free to ask if you need more clarification\",\n",
        "        \"Our refund policy varies depending on when you cancel and the specific terms set by the bus operator. You'll find comprehensive details about our refund policy on our website or app. Don't hesitate to reach out if you have questions\",\n",
        "        \"Refund policies are tailored to factors like cancellation timing and the policies of individual bus operators. You can review our detailed refund policy on our website or app. If you need further clarification, we're here to help\"\n",
        "      ]\n",
        "    },\n",
        "\n",
        "\n",
        "    {\n",
        "      \"tag\": \"Special_assistance\",\n",
        "      \"patterns\":[\"How can I request special assistance for a passenger with specific needs?\",\n",
        "      \"What steps should I take to arrange special assistance for a passenger with disabilities?\",\n",
        "      \"How do I request assistance for a passenger who requires special accommodations?\"\n",
        "      ],\n",
        "      \"responses\":[\n",
        "        \"We prioritize providing assistance to passengers with special needs. Please reach out to our customer support team directly, and they'll help you arrange the necessary accommodations for your journey.\",\n",
        "        \"We're committed to supporting passengers with special needs. To arrange accommodations, please contact our customer support team for personalized assistance in ensuring a comfortable journey\",\n",
        "        \"Ensuring the comfort and safety of all passengers, including those with special needs, is important to us. Please get in touch with our customer support team, and they'll assist you in arranging the necessary accommodations.\"\n",
        "      ]\n",
        "    },\n",
        "\n",
        "\n",
        "    {\n",
        "      \"tag\": \"Bus_operator\",\n",
        "      \"patterns\":[\"Where can I find the contact details for the bus operator if I have questions about my trip?\",\n",
        "      \"How do I contact the bus operator if I need assistance with my travel arrangements?\",\n",
        "      \"What should I do if I need to speak to the bus operator about my upcoming journey?\"\n",
        "      ],\n",
        "      \"responses\":[\n",
        "        \"To reach the bus operator regarding your journey, check your ticket or booking confirmation email for their contact information. If you can't find it, just let me know, and I'll gladly provide you with the necessary details\",\n",
        "        \"You'll find the contact information for the bus operator on your ticket or booking confirmation email. If you're having trouble locating it, please inform me, and I'll assist you in obtaining the relevant contact details\",\n",
        "      \"f you have inquiries about your trip, refer to your ticket or booking confirmation email for the bus operator's contact information. If you can't locate it, don't hesitate to ask me, and I'll provide you with the necessary contact details\"\n",
        "    ]\n",
        "    },\n",
        "\n",
        "\n",
        "    {\n",
        "      \"tag\": \"Feedback_on_journey\",\n",
        "      \"patterns\":[\n",
        "        \"How can I share feedback about my recent bus journey?\",\n",
        "        \"What's the process for giving feedback on my recent bus trip?\",\n",
        "        \"How do I provide feedback about my bus journey?\"\n",
        "      ],\n",
        "      \"responses\":[\n",
        "        \"Your feedback is important to us! You can share your thoughts through the 'Feedback' section on our website or app. Your input enables us to enhance our services for future travelers. Thank you for taking the time to provide your valuable feedback!\",\n",
        "        \"We value your insights! You can share your feedback by accessing the 'Feedback' section on our website or app. Your comments contribute to our ongoing efforts to enhance our services for all travelers. We appreciate your time and input!\",\n",
        "        \"- Your feedback is greatly appreciated! You can submit your comments through the 'Feedback' section on our website or app. Your valuable input helps us continually improve our services for the benefit of all travelers. Thank you for sharing your experience with us!\"\n",
        "    ]\n",
        "    },\n",
        "\n",
        "\n",
        "    {\n",
        "      \"tag\": \"Luggage_policy_clarification\",\n",
        "      \"patterns\":[\n",
        "        \"What is the luggage policy for my bus journey?\",\n",
        "        \"Can you provide details about the luggage policy for my upcoming bus trip?\",\n",
        "        \"What are the rules regarding luggage for my bus journey?\",\n",
        "        \"I'm unsure about the luggage policy for my bus journey. Can you clarify?\"\n",
        "      ],\n",
        "      \"responses\":[\n",
        "        \"Certainly! The luggage policy can vary by bus operator. You'll find specific information about luggage allowance and restrictions on your ticket or booking confirmation. Feel free to ask if you need more details.\",\n",
        "        \"The luggage policy differs depending on the bus operator. Please refer to your ticket or booking confirmation for precise details about luggage allowance and restrictions. Don't hesitate to reach out if you have any questions.\",\n",
        "        \"Sure! Luggage policies vary among bus operators. Check your ticket or booking confirmation for specific guidelines on luggage allowance and restrictions. If you have further questions, don't hesitate to ask\"\n",
        "    ]\n",
        "    },\n",
        "\n",
        "\n",
        "    {\n",
        "      \"tag\": \"Travel_advisory_information \",\n",
        "      \"patterns\":[\"Are there any travel advisories or updates I should be aware of?\",\n",
        "      \"Should I be aware of any travel advisories or updates before my trip?\",\n",
        "      \"Are there any important travel advisories or updates I need to know about?\",\n",
        "      \"I'm planning a trip. Are there any travel advisories or updates I should be aware of?\"\n",
        "      ],\n",
        "      \"responses\":[\n",
        "        \"To stay informed about travel advisories or updates, please consult the latest notifications from local authorities or government agencies. You can also check our website or app for any relevant travel alerts or announcements\",\n",
        "        \"To ensure you're up-to-date with travel advisories or updates, please monitor the latest notifications from local authorities or government agencies. Additionally, feel free to visit our website or app for any pertinent travel alerts or announcements\",\n",
        "        \"To be informed about any travel advisories or updates, it's recommended to review the latest notifications from local authorities or government agencies. You can also check our website or app for any relevant travel alerts or announcements\"\n",
        "    ]\n",
        "    },\n",
        "\n",
        "\n",
        "    {\n",
        "      \"tag\": \"Promotional_offers_inquiry \",\n",
        "      \"patterns\":[\"Are there any current promotional offers or discounts available?\",\n",
        "      \"Do you currently have any promotions or discounts?\",\n",
        "      \"What promotional offers or discounts are available right now?\"\n",
        "      ],\n",
        "      \"responses\":[\n",
        "        \"Certainly! We frequently offer promotional discounts for our users. You can find the latest deals and promotions on our website or app. If you're subscribed to our newsletter, you may also receive exclusive offers.\",\n",
        "        \"Yes, we regularly offer promotions and discounts for our customers. To view the latest deals and promotions, please visit our website or app. If you're subscribed to our newsletter, you may receive exclusive offers as well.\",\n",
        "        \"We have ongoing promotional offers and discounts for our users. To see the latest deals and promotions, please check our website or app. If you're subscribed to our newsletter, you may receive exclusive offers\"\n",
        "    ]\n",
        "    },\n",
        "\n",
        "\n",
        "    {\n",
        "      \"tag\": \"Bus_eminities_clarification \",\n",
        "      \"patterns\":[\n",
        "        \"What amenities are available on the bus for my journey?\",\n",
        "        \"Could you please tell me about the amenities provided on the bus for my journey?\",\n",
        "        \"What facilities can I expect on the bus for my trip?\",\n",
        "        \"I'm curious about the amenities provided onboard. Can you provide details?\"\n",
        "      ],\n",
        "      \"responses\":[\n",
        "        \"Certainly! Bus amenities can vary based on the operator and service type. Common features include air conditioning, reclining seats, Wi-Fi, and onboard restrooms. Specific details about the amenities offered by your bus operator will be available during the booking process.\",\n",
        "        \"The amenities available on the bus may differ depending on the operator and service category. Typically, buses offer amenities such as air conditioning, reclining seats, Wi-Fi, and onboard restrooms. You'll find specific information about your bus operator's amenities when booking your ticket\",\n",
        "        \"Sure! Bus amenities vary by operator and service type. Common amenities include air conditioning, reclining seats, Wi-Fi, and onboard restrooms. You'll receive specific information about the amenities offered by your bus operator as you proceed with the booking\"\n",
        "    ]\n",
        "    },\n",
        "\n",
        "\n",
        "    {\n",
        "\n",
        "      \"tag\": \"Bus_Miss \",\n",
        "      \"patterns\":[\n",
        "        \"What happens if I miss my bus?\",\n",
        "        \"What happens if I do not catch my bus on time?\",\n",
        "        \"What happens if I fail to catch my bus on time?\"\n",
        "      ],\n",
        "      \"responses\":[\n",
        "        \"If you miss your bus, please contact our customer support immediately. Depending on the bus operator's policy, you may have options for rescheduling (subject to availability) or seeking assistance for an alternative solution.\",\n",
        "        \"If you fail to catch your bus, please contact our customer support immediately. Depending on the bus operator's policy, you may have options for rescheduling (subject to availability) or seeking assistance for an alternative solution.\",\n",
        "        \"If you do not catch your bus, please contact our customer support immediately. Depending on the bus operator's policy, you may have options for rescheduling (subject to availability) or seeking assistance for an alternative solution.\"\n",
        "      ]\n",
        "    },\n",
        "\n",
        "\n",
        "    {\n",
        "      \"tag\": \"Documents\",\n",
        "      \"patterns\":[\n",
        "        \"What documents do I need to carry while boarding the bus?\"\n",
        "      ],\n",
        "      \"responses\":[\n",
        "        \" Generally, you need to carry a printout or display the e-ticket on your mobile device. Additionally, a valid government-issued ID, such as Aadhar card or driver's license, is usually required for verification during boarding.\"\n",
        "\n",
        "      ]\n",
        "    },\n",
        "\n",
        "\n",
        "\n",
        "    {\n",
        "      \"tag\": \"Ticket_Confirmation_enquiry \",\n",
        "      \"patterns\":[\n",
        "        \"I made a bus ticket booking, but I haven't received any confirmation email. Can you assist me?\",\n",
        "        \"What should I do if I haven't received a confirmation email for my bus ticket booking?\",\n",
        "        \"I'm concerned because I haven't received a confirmation email after booking my bus ticket. Can you provide guidance?\"\n",
        "      ],\n",
        "      \"responses\":[\n",
        "        \"Certainly! Start by checking your spam or junk folder for the confirmation email. If it's not there, please provide me with your booking details, and I'll help you verify your ticket.\",\n",
        "        \"If you haven't received a confirmation email, first check your spam or junk folder. If it's not there, please share your booking details with me, and I'll assist you in confirming your ticket.\",\n",
        "        \"Of course! Please take a moment to check your spam or junk folder to ensure the confirmation email wasn't filtered there. If you still haven't received it, kindly provide me with your booking details, and I'll help you confirm your ticket.\"\n",
        "    ]\n",
        "    },\n",
        "\n",
        "\n",
        "    {\n",
        "      \"tag\": \"Travel_insurance_inquiry \",\n",
        "      \"patterns\":[\n",
        "        \"Is travel insurance available for bus tickets?\",\n",
        "        \"Do you offer travel insurance for bus tickets?\",\n",
        "        \"Is there an option to get insurance for my bus journey?\",\n",
        "        \"Can I purchase travel insurance for my bus ticket?\"\n",
        "      ],\n",
        "      \"responses\":[\n",
        "        \"Absolutely! We provide travel insurance for bus tickets. When you book your ticket, you'll be presented with the option to add travel insurance for additional protection and peace of mind.\",\n",
        "        \"Yes, you can get travel insurance for bus tickets to ensure your journey is covered. Simply select the option to add travel insurance during the booking process for added security.\",\n",
        "        \"Certainly! You have the option to purchase travel insurance for your bus ticket. When you book your ticket, you'll be prompted to add travel insurance for added assurance during your journey.\",\n",
        "        \"Yes, we offer travel insurance for bus tickets. During the booking process, you'll have the option to add travel insurance to your ticket for added protection and peace of mind.\"\n",
        "      ]\n",
        "    }\n",
        "\n",
        "\n",
        "\n",
        "  ]\n",
        "}\n",
        "\n",
        "'''\n",
        "\n",
        "exec(cel_str)\n",
        "with open('intents.json', 'w') as f:\n",
        "  f.write(cel_str)\n"
      ],
      "metadata": {
        "id": "fkSHjako8Laj"
      },
      "execution_count": 15,
      "outputs": []
    },
    {
      "cell_type": "markdown",
      "source": [
        "### ***Importing Libraries***"
      ],
      "metadata": {
        "id": "-i3_qihEkPhM"
      }
    },
    {
      "cell_type": "code",
      "execution_count": 16,
      "metadata": {
        "colab": {
          "base_uri": "https://localhost:8080/"
        },
        "id": "f6V3RXcTCiCA",
        "outputId": "b0e21973-c9de-4e7c-92ff-58520a039b1d"
      },
      "outputs": [
        {
          "output_type": "stream",
          "name": "stderr",
          "text": [
            "[nltk_data] Downloading package punkt to /root/nltk_data...\n",
            "[nltk_data]   Package punkt is already up-to-date!\n",
            "[nltk_data] Downloading package wordnet to /root/nltk_data...\n",
            "[nltk_data]   Package wordnet is already up-to-date!\n",
            "[nltk_data] Downloading package stopwords to /root/nltk_data...\n",
            "[nltk_data]   Package stopwords is already up-to-date!\n",
            "[nltk_data] Downloading package averaged_perceptron_tagger to\n",
            "[nltk_data]     /root/nltk_data...\n",
            "[nltk_data]   Package averaged_perceptron_tagger is already up-to-\n",
            "[nltk_data]       date!\n"
          ]
        }
      ],
      "source": [
        "cell_str = '''\n",
        "\n",
        "\n",
        "import numpy as np\n",
        "import nltk\n",
        "\n",
        "nltk.download('punkt')\n",
        "nltk.download('wordnet')\n",
        "\n",
        "from nltk.stem import WordNetLemmatizer\n",
        "wnl = WordNetLemmatizer()\n",
        "\n",
        "from nltk.corpus import stopwords\n",
        "nltk.download('stopwords')\n",
        "stop_words = set(stopwords.words('english'))\n",
        "\n",
        "nltk.download('averaged_perceptron_tagger')\n",
        "\n",
        "\n",
        "def tokenize(sentence):\n",
        "\n",
        "    \"\"\"\n",
        "    split sentence into array of words/tokens\n",
        "    a token can be a word or punctuation character, or number\n",
        "\n",
        "    \"\"\"\n",
        "\n",
        "    return nltk.word_tokenize(sentence)\n",
        "\n",
        "\n",
        "def lemmatize(word):\n",
        "\n",
        "    \"\"\"\n",
        "    Lemmatizing = find the root form of the word\n",
        "    examples:\n",
        "    words = [\"organize\", \"organizes\", \"organizing\"]\n",
        "    words = [lemmatize(w) for w in words]\n",
        "    -> [\"organ\", \"organ\", \"organ\"]\n",
        "\n",
        "\n",
        "    \"\"\"\n",
        "\n",
        "    return wnl.lemmatize(word)\n",
        "\n",
        "\n",
        "\n",
        "\n",
        "def bag_of_words(tokenized_sentence, words):\n",
        "\n",
        "\n",
        "    \"\"\"\n",
        "    return bag of words array:\n",
        "    1 for each known word that exists in the sentence, 0 otherwise\n",
        "    example:\n",
        "    sentence = [\"hello\", \"how\", \"are\", \"you\"]\n",
        "    words = [\"hi\", \"hello\", \"I\", \"you\", \"bye\", \"thank\", \"cool\"]\n",
        "    bag  = [  0 ,    1 ,    0 ,   1 ,    0 ,    0 ,      0]\n",
        "    \"\"\"\n",
        "\n",
        "\n",
        "    # Lemmatize each word\n",
        "    sentence_words = [lemmatize(word) for word in tokenized_sentence]\n",
        "    # initialize bag with 0 for each word\n",
        "    bag = np.zeros(len(words), dtype=np.float32)\n",
        "    for idx, w in enumerate(words):\n",
        "        if w in sentence_words:\n",
        "            bag[idx] = 1\n",
        "\n",
        "    return bag\n",
        "    '''\n",
        "\n",
        "exec(cell_str)\n",
        "with open('nltk_utils.py', 'w') as f:\n",
        "  f.write(cell_str)\n"
      ]
    },
    {
      "cell_type": "markdown",
      "source": [
        "### ***Stopwords***"
      ],
      "metadata": {
        "id": "D9H2tEuZhTAO"
      }
    },
    {
      "cell_type": "code",
      "source": [
        "import numpy as np\n",
        "import nltk\n",
        "import json\n",
        "from nltk_utils import bag_of_words,tokenize,lemmatize\n",
        "\n",
        "\n",
        "with open('intents.json', 'r') as f:\n",
        "    intents = json.load(f)\n",
        "\n",
        "all_words = []\n",
        "tags = []\n",
        "xy = []\n",
        "\n",
        "\n",
        "# loop through each sentence in our intents patterns\n",
        "for intent in intents['intents']:\n",
        "    tag = intent['tag']\n",
        "    # add to tag list\n",
        "    tags.append(tag)\n",
        "    for pattern in intent['patterns']:\n",
        "        # tokenize each word in the sentence\n",
        "        w = tokenize(pattern)\n",
        "        # add to our words list\n",
        "        all_words.extend(w)\n",
        "        # add to xy pair\n",
        "        xy.append((w, tag))\n",
        "\n",
        "\n",
        "sw=[]\n",
        "for i in range(0,len(all_words)):\n",
        "  if all_words[i] in stop_words:\n",
        "    sw.append(all_words[i])\n",
        "sw=sorted(set(sw))"
      ],
      "metadata": {
        "id": "W0y08dBrCxPM"
      },
      "execution_count": 17,
      "outputs": []
    },
    {
      "cell_type": "code",
      "source": [
        "print(len(sw))\n",
        "print(sw)"
      ],
      "metadata": {
        "colab": {
          "base_uri": "https://localhost:8080/"
        },
        "id": "HR48UcjNMhJM",
        "outputId": "4d95e80f-ddd1-4bfa-d71a-cfe4ef49326e"
      },
      "execution_count": 18,
      "outputs": [
        {
          "output_type": "stream",
          "name": "stdout",
          "text": [
            "42\n",
            "['a', 'about', 'after', 'an', 'any', 'are', 'be', 'because', 'before', 'but', 'can', 'do', 'does', 'during', 'for', 'have', 'having', 'here', 'how', 'i', 'if', 'in', 'is', 'it', 'me', 'my', 'not', 'now', 'of', 'on', 'or', 'should', 'the', 'there', 'this', 'through', 'to', 'when', 'while', 'who', 'with', 'you']\n"
          ]
        }
      ]
    },
    {
      "cell_type": "markdown",
      "source": [
        "### ***Excluding Stopwords and Punctuation marks***"
      ],
      "metadata": {
        "id": "blArTkXBiP8i"
      }
    },
    {
      "cell_type": "code",
      "source": [
        "# Lemmatize and lower each word\n",
        "ignore_words = ['?', '.', '!',',','\"','&',\"'\",'/']\n",
        "\n",
        "\n",
        "all_words = [w for w in all_words if w not in ignore_words and w not in stop_words]\n",
        "\n",
        "\n",
        "# remove duplicates and sort\n",
        "all_words = sorted(set(all_words))\n",
        "tags = sorted(set(tags))"
      ],
      "metadata": {
        "id": "SdgaipNvL2T8"
      },
      "execution_count": 19,
      "outputs": []
    },
    {
      "cell_type": "markdown",
      "source": [
        "### ***Tokenized Words***"
      ],
      "metadata": {
        "id": "S8i-InzBjEj4"
      }
    },
    {
      "cell_type": "code",
      "source": [
        "all_words"
      ],
      "metadata": {
        "colab": {
          "base_uri": "https://localhost:8080/"
        },
        "id": "qWVPeS8Zi3t8",
        "outputId": "6e1b4a1f-ea18-4820-ec9c-c9d716ffe672"
      },
      "execution_count": 20,
      "outputs": [
        {
          "output_type": "execute_result",
          "data": {
            "text/plain": [
              "[\"'d\",\n",
              " \"'m\",\n",
              " \"'s\",\n",
              " 'Any',\n",
              " 'Are',\n",
              " 'Bye',\n",
              " 'Can',\n",
              " 'Could',\n",
              " 'Do',\n",
              " 'Good',\n",
              " 'Goodbye',\n",
              " 'Having',\n",
              " 'Hello',\n",
              " 'Hey',\n",
              " 'Hi',\n",
              " 'How',\n",
              " 'I',\n",
              " 'Is',\n",
              " 'Net',\n",
              " 'Rescheduling',\n",
              " 'See',\n",
              " 'Should',\n",
              " 'Thank',\n",
              " 'Thanks',\n",
              " 'That',\n",
              " 'UPI',\n",
              " 'What',\n",
              " 'Where',\n",
              " 'accommodations',\n",
              " 'advisories',\n",
              " 'amenities',\n",
              " 'anyone',\n",
              " 'arrange',\n",
              " 'arrangements',\n",
              " 'assist',\n",
              " 'assistance',\n",
              " 'available',\n",
              " 'aware',\n",
              " 'banking',\n",
              " 'boarding',\n",
              " 'book',\n",
              " 'booked',\n",
              " 'booking',\n",
              " 'bus',\n",
              " 'cancel',\n",
              " 'canceled',\n",
              " 'canceling',\n",
              " 'cancellation',\n",
              " 'carry',\n",
              " 'catch',\n",
              " 'changing',\n",
              " 'choose',\n",
              " 'clarify',\n",
              " 'complete',\n",
              " 'concerned',\n",
              " 'confirmation',\n",
              " 'contact',\n",
              " 'curious',\n",
              " 'current',\n",
              " 'currently',\n",
              " 'date',\n",
              " 'day',\n",
              " 'decide',\n",
              " 'delayed',\n",
              " 'details',\n",
              " 'different',\n",
              " 'difficulty',\n",
              " 'disabilities',\n",
              " 'discounts',\n",
              " 'documents',\n",
              " 'email',\n",
              " 'encountering',\n",
              " 'expect',\n",
              " 'experiencing',\n",
              " 'explain',\n",
              " 'facilities',\n",
              " 'fail',\n",
              " 'feedback',\n",
              " 'find',\n",
              " 'frequent',\n",
              " 'get',\n",
              " 'giving',\n",
              " 'go',\n",
              " 'guidance',\n",
              " 'guide',\n",
              " 'happens',\n",
              " 'help',\n",
              " 'helpful',\n",
              " 'important',\n",
              " 'initiate',\n",
              " 'instructions',\n",
              " 'insurance',\n",
              " 'interested',\n",
              " 'issues',\n",
              " 'journey',\n",
              " 'know',\n",
              " 'later',\n",
              " 'like',\n",
              " 'looking',\n",
              " 'lot',\n",
              " 'loyalty',\n",
              " 'luggage',\n",
              " 'made',\n",
              " 'make',\n",
              " 'making',\n",
              " 'matter',\n",
              " 'miss',\n",
              " \"n't\",\n",
              " 'need',\n",
              " 'needs',\n",
              " 'netbanking',\n",
              " 'offer',\n",
              " 'offers',\n",
              " 'onboard',\n",
              " 'operator',\n",
              " 'option',\n",
              " 'options',\n",
              " 'passenger',\n",
              " 'pay',\n",
              " 'payment',\n",
              " 'pick',\n",
              " 'planning',\n",
              " 'please',\n",
              " 'policy',\n",
              " 'preferred',\n",
              " 'problems',\n",
              " 'procedure',\n",
              " 'process',\n",
              " 'processing',\n",
              " 'program',\n",
              " 'programs',\n",
              " 'promotional',\n",
              " 'promotions',\n",
              " 'provide',\n",
              " 'provided',\n",
              " 'purchase',\n",
              " 'questions',\n",
              " 'received',\n",
              " 'recent',\n",
              " 'refund',\n",
              " 'regarding',\n",
              " 'request',\n",
              " 'requires',\n",
              " 'reschedule',\n",
              " 'rescheduling',\n",
              " 'reservation',\n",
              " 'resolve',\n",
              " 'right',\n",
              " 'rules',\n",
              " 'seat',\n",
              " 'seats',\n",
              " 'select',\n",
              " 'selecting',\n",
              " 'share',\n",
              " 'speak',\n",
              " 'special',\n",
              " 'specific',\n",
              " 'steps',\n",
              " 'support',\n",
              " 'switch',\n",
              " 'take',\n",
              " 'tell',\n",
              " 'ticket',\n",
              " 'tickets',\n",
              " 'time',\n",
              " 'travel',\n",
              " 'trip',\n",
              " 'trouble',\n",
              " 'trying',\n",
              " 'unsure',\n",
              " 'upcoming',\n",
              " 'updates',\n",
              " 'use',\n",
              " 'users',\n",
              " 'want',\n",
              " 'work']"
            ]
          },
          "metadata": {},
          "execution_count": 20
        }
      ]
    },
    {
      "cell_type": "markdown",
      "source": [
        "### ***Tags***"
      ],
      "metadata": {
        "id": "QzaXEuRXjYxW"
      }
    },
    {
      "cell_type": "code",
      "source": [
        "print(len(tags))\n",
        "tags"
      ],
      "metadata": {
        "colab": {
          "base_uri": "https://localhost:8080/"
        },
        "id": "Ril5lWEg3JhV",
        "outputId": "b819b769-b9c5-4d48-890a-545a8e4af8f3"
      },
      "execution_count": null,
      "outputs": [
        {
          "output_type": "stream",
          "name": "stdout",
          "text": [
            "23\n"
          ]
        },
        {
          "output_type": "execute_result",
          "data": {
            "text/plain": [
              "['Assistance_with_booking_a_ticket',\n",
              " 'Booking_modification',\n",
              " 'Bus_Delay',\n",
              " 'Bus_Miss ',\n",
              " 'Bus_eminities_clarification ',\n",
              " 'Bus_operator',\n",
              " 'Cancellation_of_tickets',\n",
              " 'Documents',\n",
              " 'Feedback_on_journey',\n",
              " 'Goodbye',\n",
              " 'Introduction of_bot',\n",
              " 'Loyalty_Program',\n",
              " 'Luggage_policy_clarification',\n",
              " 'Payment_Assistance',\n",
              " 'Payment_options',\n",
              " 'Promotional_offers_inquiry ',\n",
              " 'Refund_Inquiry',\n",
              " 'Seat_selection',\n",
              " 'Special_assistance',\n",
              " 'Thanks',\n",
              " 'Ticket_Confirmation_enquiry ',\n",
              " 'Travel_advisory_information ',\n",
              " 'Travel_insurance_inquiry ']"
            ]
          },
          "metadata": {},
          "execution_count": 51
        }
      ]
    },
    {
      "cell_type": "markdown",
      "source": [
        "### ***POS Tagging***"
      ],
      "metadata": {
        "id": "8g71EgajjeQD"
      }
    },
    {
      "cell_type": "code",
      "source": [
        "tagged = nltk.pos_tag(all_words)\n",
        "print(len(tagged))\n",
        "print(tagged)"
      ],
      "metadata": {
        "colab": {
          "base_uri": "https://localhost:8080/"
        },
        "id": "4ZCELz5y9KbB",
        "outputId": "176dc5e7-afda-4dbe-9364-c0fed9726c81"
      },
      "execution_count": 21,
      "outputs": [
        {
          "output_type": "stream",
          "name": "stdout",
          "text": [
            "176\n",
            "[(\"'d\", 'MD'), (\"'m\", 'VBP'), (\"'s\", 'POS'), ('Any', 'DT'), ('Are', 'NNP'), ('Bye', 'NNP'), ('Can', 'NNP'), ('Could', 'NNP'), ('Do', 'VB'), ('Good', 'NNP'), ('Goodbye', 'NNP'), ('Having', 'NNP'), ('Hello', 'NNP'), ('Hey', 'NNP'), ('Hi', 'NNP'), ('How', 'NNP'), ('I', 'PRP'), ('Is', 'VBP'), ('Net', 'JJ'), ('Rescheduling', 'VBG'), ('See', 'NNP'), ('Should', 'NNP'), ('Thank', 'NNP'), ('Thanks', 'NNP'), ('That', 'IN'), ('UPI', 'NNP'), ('What', 'WP'), ('Where', 'NNP'), ('accommodations', 'VBZ'), ('advisories', 'NNS'), ('amenities', 'VBZ'), ('anyone', 'NN'), ('arrange', 'NN'), ('arrangements', 'NNS'), ('assist', 'JJ'), ('assistance', 'NN'), ('available', 'JJ'), ('aware', 'JJ'), ('banking', 'NN'), ('boarding', 'VBG'), ('book', 'NN'), ('booked', 'VBD'), ('booking', 'VBG'), ('bus', 'NN'), ('cancel', 'NN'), ('canceled', 'VBD'), ('canceling', 'VBG'), ('cancellation', 'NN'), ('carry', 'NN'), ('catch', 'VBP'), ('changing', 'VBG'), ('choose', 'JJ'), ('clarify', 'JJ'), ('complete', 'JJ'), ('concerned', 'VBN'), ('confirmation', 'NN'), ('contact', 'NN'), ('curious', 'JJ'), ('current', 'JJ'), ('currently', 'RB'), ('date', 'NN'), ('day', 'NN'), ('decide', 'VB'), ('delayed', 'VBN'), ('details', 'NNS'), ('different', 'JJ'), ('difficulty', 'NN'), ('disabilities', 'NNS'), ('discounts', 'VBZ'), ('documents', 'NNS'), ('email', 'VBP'), ('encountering', 'VBG'), ('expect', 'VBP'), ('experiencing', 'VBG'), ('explain', 'NN'), ('facilities', 'NNS'), ('fail', 'VBP'), ('feedback', 'NN'), ('find', 'VBP'), ('frequent', 'JJ'), ('get', 'NN'), ('giving', 'VBG'), ('go', 'VB'), ('guidance', 'NN'), ('guide', 'NN'), ('happens', 'VBZ'), ('help', 'NN'), ('helpful', 'JJ'), ('important', 'JJ'), ('initiate', 'NN'), ('instructions', 'NNS'), ('insurance', 'NN'), ('interested', 'JJ'), ('issues', 'NNS'), ('journey', 'NN'), ('know', 'VBP'), ('later', 'RB'), ('like', 'IN'), ('looking', 'VBG'), ('lot', 'NN'), ('loyalty', 'NN'), ('luggage', 'NN'), ('made', 'VBD'), ('make', 'VBP'), ('making', 'VBG'), ('matter', 'NN'), ('miss', 'VBP'), (\"n't\", 'RB'), ('need', 'VB'), ('needs', 'NNS'), ('netbanking', 'VBG'), ('offer', 'NN'), ('offers', 'VBZ'), ('onboard', 'RB'), ('operator', 'NN'), ('option', 'NN'), ('options', 'NNS'), ('passenger', 'NN'), ('pay', 'VBP'), ('payment', 'NN'), ('pick', 'NN'), ('planning', 'VBG'), ('please', 'NN'), ('policy', 'NN'), ('preferred', 'VBN'), ('problems', 'NNS'), ('procedure', 'JJ'), ('process', 'NN'), ('processing', 'VBG'), ('program', 'NN'), ('programs', 'NNS'), ('promotional', 'JJ'), ('promotions', 'NNS'), ('provide', 'VBP'), ('provided', 'VBN'), ('purchase', 'NN'), ('questions', 'NNS'), ('received', 'VBD'), ('recent', 'JJ'), ('refund', 'NN'), ('regarding', 'VBG'), ('request', 'NN'), ('requires', 'VBZ'), ('reschedule', 'JJ'), ('rescheduling', 'VBG'), ('reservation', 'NN'), ('resolve', 'VB'), ('right', 'JJ'), ('rules', 'NNS'), ('seat', 'VBP'), ('seats', 'NNS'), ('select', 'VBP'), ('selecting', 'VBG'), ('share', 'NN'), ('speak', 'JJ'), ('special', 'JJ'), ('specific', 'JJ'), ('steps', 'NNS'), ('support', 'NN'), ('switch', 'VBP'), ('take', 'VB'), ('tell', 'NN'), ('ticket', 'NN'), ('tickets', 'NNS'), ('time', 'NN'), ('travel', 'NN'), ('trip', 'NN'), ('trouble', 'NN'), ('trying', 'VBG'), ('unsure', 'JJ'), ('upcoming', 'VBG'), ('updates', 'NNS'), ('use', 'VBP'), ('users', 'NNS'), ('want', 'VBP'), ('work', 'NN')]\n"
          ]
        }
      ]
    },
    {
      "cell_type": "code",
      "source": [],
      "metadata": {
        "id": "FfHdIAXsPC5I"
      },
      "execution_count": null,
      "outputs": []
    },
    {
      "cell_type": "code",
      "source": [
        "pos_counts = {}\n",
        "\n",
        "# Iterate through the list and count occurrences\n",
        "for tup in tagged:\n",
        "    pos = tup[1]  # Get the part of speech from the tuple\n",
        "    if pos in pos_counts:\n",
        "        pos_counts[pos] += 1\n",
        "    else:\n",
        "        pos_counts[pos] = 1"
      ],
      "metadata": {
        "id": "jO_f__ZtyF9P"
      },
      "execution_count": 22,
      "outputs": []
    },
    {
      "cell_type": "code",
      "source": [
        "pos_counts"
      ],
      "metadata": {
        "colab": {
          "base_uri": "https://localhost:8080/"
        },
        "id": "qOQ-yJdN39Ln",
        "outputId": "800125ba-159f-44c7-b23b-70ed2040ce57"
      },
      "execution_count": 23,
      "outputs": [
        {
          "output_type": "execute_result",
          "data": {
            "text/plain": [
              "{'MD': 1,\n",
              " 'VBP': 17,\n",
              " 'POS': 1,\n",
              " 'DT': 1,\n",
              " 'NNP': 17,\n",
              " 'VB': 6,\n",
              " 'PRP': 1,\n",
              " 'JJ': 23,\n",
              " 'VBG': 18,\n",
              " 'IN': 2,\n",
              " 'WP': 1,\n",
              " 'VBZ': 6,\n",
              " 'NNS': 20,\n",
              " 'NN': 50,\n",
              " 'VBD': 4,\n",
              " 'VBN': 4,\n",
              " 'RB': 4}"
            ]
          },
          "metadata": {},
          "execution_count": 23
        }
      ]
    },
    {
      "cell_type": "code",
      "source": [
        "# Mapping dictionary\n",
        "pos_mapping = {\n",
        "    'MD': 'v',\n",
        "    'VBP': 'v',\n",
        "    'POS': 's',\n",
        "    'NN': 'n',\n",
        "    'JJ': 'a',\n",
        "    'DT': 's',\n",
        "    'VBG': 'v',\n",
        "    'VBD': 'v',\n",
        "    'VB': 'v',\n",
        "    'VBN': 'v',\n",
        "    'RB': 'r',\n",
        "    'VBZ': 'v',\n",
        "    'WRB': 'r',\n",
        "    'IN': 'r',\n",
        "    'PRP': 's',\n",
        "    'NNS': 'n',\n",
        "    'NNP': 'n',\n",
        "    'WP': 'r'\n",
        "\n",
        "}\n",
        "\n",
        "converted_list = [(first_value, pos_mapping[second_value]) for first_value, second_value in tagged]\n"
      ],
      "metadata": {
        "id": "fPEs85XdACWY"
      },
      "execution_count": 24,
      "outputs": []
    },
    {
      "cell_type": "markdown",
      "source": [
        "### ***Lemmatization***"
      ],
      "metadata": {
        "id": "QnZiyRZwjlV0"
      }
    },
    {
      "cell_type": "code",
      "source": [
        "k=[]\n",
        "for w in converted_list:\n",
        "  k.append(wnl.lemmatize(w[0],w[1]))\n",
        "  s=sorted(set(k))"
      ],
      "metadata": {
        "id": "9XztNjBhEPty"
      },
      "execution_count": 25,
      "outputs": []
    },
    {
      "cell_type": "code",
      "source": [
        "print(len(s))\n",
        "print(s)"
      ],
      "metadata": {
        "id": "-05-YAoSERuT",
        "colab": {
          "base_uri": "https://localhost:8080/"
        },
        "outputId": "d48f1380-6e8d-4be6-cebd-b4f7bdf0b552"
      },
      "execution_count": 26,
      "outputs": [
        {
          "output_type": "stream",
          "name": "stdout",
          "text": [
            "160\n",
            "[\"'d\", \"'m\", \"'s\", 'Any', 'Are', 'Bye', 'Can', 'Could', 'Do', 'Good', 'Goodbye', 'Having', 'Hello', 'Hey', 'Hi', 'How', 'I', 'Is', 'Net', 'Rescheduling', 'See', 'Should', 'Thank', 'Thanks', 'That', 'UPI', 'What', 'Where', 'accommodations', 'advisory', 'amenities', 'anyone', 'arrange', 'arrangement', 'assist', 'assistance', 'available', 'aware', 'banking', 'board', 'book', 'bus', 'cancel', 'cancellation', 'carry', 'catch', 'change', 'choose', 'clarify', 'complete', 'concern', 'confirmation', 'contact', 'curious', 'current', 'currently', 'date', 'day', 'decide', 'delay', 'detail', 'different', 'difficulty', 'disability', 'discount', 'document', 'email', 'encounter', 'expect', 'experience', 'explain', 'facility', 'fail', 'feedback', 'find', 'frequent', 'get', 'give', 'go', 'guidance', 'guide', 'happen', 'help', 'helpful', 'important', 'initiate', 'instruction', 'insurance', 'interested', 'issue', 'journey', 'know', 'later', 'like', 'look', 'lot', 'loyalty', 'luggage', 'make', 'matter', 'miss', \"n't\", 'need', 'netbanking', 'offer', 'onboard', 'operator', 'option', 'passenger', 'pay', 'payment', 'pick', 'plan', 'please', 'policy', 'prefer', 'problem', 'procedure', 'process', 'program', 'promotion', 'promotional', 'provide', 'purchase', 'question', 'receive', 'recent', 'refund', 'regard', 'request', 'require', 'reschedule', 'reservation', 'resolve', 'right', 'rule', 'seat', 'select', 'share', 'speak', 'special', 'specific', 'step', 'support', 'switch', 'take', 'tell', 'ticket', 'time', 'travel', 'trip', 'trouble', 'try', 'unsure', 'upcoming', 'update', 'use', 'user', 'want', 'work']\n"
          ]
        }
      ]
    },
    {
      "cell_type": "markdown",
      "source": [
        "### ***Lowering***"
      ],
      "metadata": {
        "id": "cLTWdJtOjrBO"
      }
    },
    {
      "cell_type": "code",
      "source": [
        "for i in range(0,len(s)) :\n",
        "  s[i]=s[i].lower()\n",
        "  l=sorted(s)"
      ],
      "metadata": {
        "id": "vGxdr4l94J2p"
      },
      "execution_count": 27,
      "outputs": []
    },
    {
      "cell_type": "code",
      "source": [
        "print(len(l))\n",
        "print(l)"
      ],
      "metadata": {
        "colab": {
          "base_uri": "https://localhost:8080/"
        },
        "id": "Z7-a2Y9H4bgZ",
        "outputId": "9801457e-22dc-4639-bf35-68fdec9c9c8f"
      },
      "execution_count": 28,
      "outputs": [
        {
          "output_type": "stream",
          "name": "stdout",
          "text": [
            "160\n",
            "[\"'d\", \"'m\", \"'s\", 'accommodations', 'advisory', 'amenities', 'any', 'anyone', 'are', 'arrange', 'arrangement', 'assist', 'assistance', 'available', 'aware', 'banking', 'board', 'book', 'bus', 'bye', 'can', 'cancel', 'cancellation', 'carry', 'catch', 'change', 'choose', 'clarify', 'complete', 'concern', 'confirmation', 'contact', 'could', 'curious', 'current', 'currently', 'date', 'day', 'decide', 'delay', 'detail', 'different', 'difficulty', 'disability', 'discount', 'do', 'document', 'email', 'encounter', 'expect', 'experience', 'explain', 'facility', 'fail', 'feedback', 'find', 'frequent', 'get', 'give', 'go', 'good', 'goodbye', 'guidance', 'guide', 'happen', 'having', 'hello', 'help', 'helpful', 'hey', 'hi', 'how', 'i', 'important', 'initiate', 'instruction', 'insurance', 'interested', 'is', 'issue', 'journey', 'know', 'later', 'like', 'look', 'lot', 'loyalty', 'luggage', 'make', 'matter', 'miss', \"n't\", 'need', 'net', 'netbanking', 'offer', 'onboard', 'operator', 'option', 'passenger', 'pay', 'payment', 'pick', 'plan', 'please', 'policy', 'prefer', 'problem', 'procedure', 'process', 'program', 'promotion', 'promotional', 'provide', 'purchase', 'question', 'receive', 'recent', 'refund', 'regard', 'request', 'require', 'reschedule', 'rescheduling', 'reservation', 'resolve', 'right', 'rule', 'seat', 'see', 'select', 'share', 'should', 'speak', 'special', 'specific', 'step', 'support', 'switch', 'take', 'tell', 'thank', 'thanks', 'that', 'ticket', 'time', 'travel', 'trip', 'trouble', 'try', 'unsure', 'upcoming', 'update', 'upi', 'use', 'user', 'want', 'what', 'where', 'work']\n"
          ]
        }
      ]
    },
    {
      "cell_type": "markdown",
      "source": [
        "### ***Bag of words***"
      ],
      "metadata": {
        "id": "7HIV8M_Aj1lx"
      }
    },
    {
      "cell_type": "code",
      "source": [
        "# create training data\n",
        "X_train = []\n",
        "for (pattern_sentence, tag) in xy:\n",
        "    # X: bag of words for each pattern_sentence\n",
        "    bag = bag_of_words(pattern_sentence, k)\n",
        "    X_train.append(bag)\n",
        "X_train = np.array(X_train)"
      ],
      "metadata": {
        "id": "pgL6fpkO3drX"
      },
      "execution_count": 29,
      "outputs": []
    },
    {
      "cell_type": "code",
      "source": [
        "print(len(X_train))\n",
        "X_train"
      ],
      "metadata": {
        "colab": {
          "base_uri": "https://localhost:8080/"
        },
        "id": "j5cIKJf33jJP",
        "outputId": "3a4cf0ca-6f2b-45c0-ff5a-18a8fec3ba41"
      },
      "execution_count": 30,
      "outputs": [
        {
          "output_type": "stream",
          "name": "stdout",
          "text": [
            "82\n"
          ]
        },
        {
          "output_type": "execute_result",
          "data": {
            "text/plain": [
              "array([[0., 0., 0., ..., 0., 0., 0.],\n",
              "       [0., 0., 0., ..., 0., 0., 0.],\n",
              "       [0., 0., 0., ..., 0., 0., 0.],\n",
              "       ...,\n",
              "       [0., 0., 0., ..., 0., 0., 0.],\n",
              "       [0., 0., 0., ..., 0., 0., 0.],\n",
              "       [0., 0., 0., ..., 0., 0., 0.]], dtype=float32)"
            ]
          },
          "metadata": {},
          "execution_count": 30
        }
      ]
    }
  ]
}